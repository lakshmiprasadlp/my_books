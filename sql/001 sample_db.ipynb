{
 "cells": [
  {
   "cell_type": "markdown",
   "metadata": {},
   "source": [
    "**student database** that includes tables such as `Students`, `Courses`, `Enrollments`, and `Grades`. Here's a brief description of the database:  \n",
    "\n",
    "### **Student Database Schema**  \n",
    "\n",
    "1. **Students**:  \n",
    "   - `StudentID` (Primary Key)  \n",
    "   - `Name`  \n",
    "   - `Age`  \n",
    "   - `Gender`  \n",
    "   - `City`  \n",
    "\n",
    "2. **Courses**:  \n",
    "   - `CourseID` (Primary Key)  \n",
    "   - `CourseName`  \n",
    "   - `Credits`  \n",
    "\n",
    "3. **Enrollments**:  \n",
    "   - `EnrollmentID` (Primary Key)  \n",
    "   - `StudentID` (Foreign Key referencing `Students`)  \n",
    "   - `CourseID` (Foreign Key referencing `Courses`)  \n",
    "   - `EnrollmentDate`  \n",
    "\n",
    "4. **Grades**:  \n",
    "   - `GradeID` (Primary Key)  \n",
    "   - `EnrollmentID` (Foreign Key referencing `Enrollments`)  \n",
    "   - `Grade`  \n",
    "\n",
    "This schema will allow me to demonstrate each SQL topic effectively. Please tell me the topic you'd like to start with, and I'll provide the requested details!"
   ]
  },
  {
   "cell_type": "markdown",
   "metadata": {},
   "source": []
  }
 ],
 "metadata": {
  "language_info": {
   "name": "python"
  }
 },
 "nbformat": 4,
 "nbformat_minor": 2
}
