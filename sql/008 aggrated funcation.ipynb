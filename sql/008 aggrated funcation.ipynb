{
 "cells": [
  {
   "cell_type": "markdown",
   "metadata": {},
   "source": [
    "### Aggregate Functions\n",
    "\n",
    "**Definition:**  \n",
    "Aggregate functions in SQL perform calculations on a set of values and return a single value. They are used to summarize data in various ways, such as finding the average, sum, minimum, maximum, or count of values in a column.\n",
    "\n",
    "**Syntax:**  \n",
    "```sql\n",
    "SELECT aggregate_function(column_name)\n",
    "FROM table_name\n",
    "WHERE condition;\n",
    "```\n",
    "\n",
    "**Example:**  \n",
    "Let's use the student database to demonstrate aggregate functions.\n",
    "\n",
    "**Assuming the following data exists in the `Grades` table:**  \n",
    "| GradeID | EnrollmentID | Grade |\n",
    "|----------|--------------|-------|\n",
    "| 1        | 1            | 85    |\n",
    "| 2        | 2            | 92    |\n",
    "| 3        | 3            | 75    |\n",
    "| 4        | 4            | 88    |\n",
    "| 5        | 1            | 90    |\n",
    "\n",
    "**Example to find the average grade:**  \n",
    "```sql\n",
    "SELECT AVG(Grade) AS AverageGrade\n",
    "FROM Grades;\n",
    "```\n",
    "**Output:**  \n",
    "| AverageGrade |\n",
    "|---------------|\n",
    "| 86.0          |\n",
    "\n",
    "**Example to find the maximum grade:**  \n",
    "```sql\n",
    "SELECT MAX(Grade) AS MaxGrade\n",
    "FROM Grades;\n",
    "```\n",
    "**Output:**  \n",
    "| MaxGrade |\n",
    "|-----------|\n",
    "| 92        |\n",
    "\n",
    "**Example to find the count of grades:**  \n",
    "```sql\n",
    "SELECT COUNT(Grade) AS GradeCount\n",
    "FROM Grades;\n",
    "```\n",
    "**Output:**  \n",
    "| GradeCount |\n",
    "|-------------|\n",
    "| 5           |\n",
    "\n",
    "These examples illustrate how aggregate functions like `AVG`, `MAX`, and `COUNT` can be used to summarize data within a table.\n",
    "\n",
    "Let me know if you'd like to proceed to the next SQL topic!"
   ]
  },
  {
   "cell_type": "markdown",
   "metadata": {},
   "source": []
  }
 ],
 "metadata": {
  "language_info": {
   "name": "python"
  }
 },
 "nbformat": 4,
 "nbformat_minor": 2
}
